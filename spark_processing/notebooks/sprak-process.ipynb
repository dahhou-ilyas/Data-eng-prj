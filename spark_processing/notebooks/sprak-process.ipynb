{
 "cells": [
  {
   "cell_type": "code",
   "execution_count": 15,
   "id": "e5b27c81-67a5-40d4-b277-5d20588b788f",
   "metadata": {},
   "outputs": [],
   "source": [
    "from pyspark.sql import SparkSession\n",
    "from pyspark.sql.functions import sum\n",
    "import os\n",
    "from datetime import datetime\n",
    "import glob"
   ]
  },
  {
   "cell_type": "code",
   "execution_count": 16,
   "id": "a5c15527-4213-4568-a67d-da306a102999",
   "metadata": {},
   "outputs": [],
   "source": [
    "def create_spark_session():\n",
    "    \"\"\"Crée une session Spark\"\"\"\n",
    "    return SparkSession.builder \\\n",
    "        .appName(\"LogProcessing\") \\\n",
    "        .getOrCreate()\n"
   ]
  },
  {
   "cell_type": "code",
   "execution_count": 17,
   "id": "e4370ab7-a9fd-4ea2-81ce-25a052658b7f",
   "metadata": {},
   "outputs": [],
   "source": [
    "def get_hour_folders(base_path):\n",
    "    \"\"\"Récupère tous les dossiers horaires\"\"\"\n",
    "    # Les dossiers sont au format YYYYMMDDHH\n",
    "    return [d for d in os.listdir(base_path) if len(d) == 10 and d.isdigit()]"
   ]
  },
  {
   "cell_type": "code",
   "execution_count": 18,
   "id": "a43aa999-42d7-4fac-84dd-8d83bd69d86f",
   "metadata": {},
   "outputs": [],
   "source": [
    "def process_log_file(spark, file_path):\n",
    "    \"\"\"Traite un fichier log individuel\"\"\"\n",
    "    try:\n",
    "        # Lit le fichier avec Spark\n",
    "        df = spark.read.option(\"delimiter\", \"|\").csv(file_path)\n",
    "        \n",
    "        # Renomme les colonnes pour correspondre au format des logs\n",
    "        df = df.toDF(\"timestamp\", \"id\", \"product_name\", \"currency\", \"price\", \"action\")\n",
    "        \n",
    "        # Filtre les lignes avec action 'purchase' et convertit le prix en double\n",
    "        df = df.filter(df.action == \"purchase\") \\\n",
    "              .withColumn(\"price\", df.price.cast(\"double\"))\n",
    "        \n",
    "        # Groupe par produit et somme les prix\n",
    "        result_df = df.groupBy(\"product_name\") \\\n",
    "                     .agg(sum(\"price\").alias(\"total_price\"))\n",
    "        \n",
    "        return result_df\n",
    "    except Exception as e:\n",
    "        print(f\"Erreur lors du traitement du fichier {file_path}: {str(e)}\")\n",
    "        return None"
   ]
  },
  {
   "cell_type": "code",
   "execution_count": 19,
   "id": "0454ef1b-87bd-4abc-bf8f-96b92731ccc6",
   "metadata": {},
   "outputs": [],
   "source": [
    "def format_datetime(folder_name):\n",
    "    \"\"\"Formate le nom du dossier en date lisible\"\"\"\n",
    "    # Convertit YYYYMMDDHH en YYYY/MM/DD HH\n",
    "    year = folder_name[:4]\n",
    "    month = folder_name[4:6]\n",
    "    day = folder_name[6:8]\n",
    "    hour = folder_name[8:10]\n",
    "    return f\"{year}/{month}/{day} {hour}\""
   ]
  },
  {
   "cell_type": "code",
   "execution_count": 20,
   "id": "bea9610c-43c8-4bf7-95aa-88af0ae5f891",
   "metadata": {},
   "outputs": [],
   "source": [
    "def main():\n",
    "    # Chemins\n",
    "    input_path = \"./logs\"\n",
    "    output_path = \"./output\"\n",
    "    \n",
    "    # Crée le dossier de sortie s'il n'existe pas\n",
    "    os.makedirs(output_path, exist_ok=True)\n",
    "    \n",
    "    # Initialise Spark\n",
    "    spark = create_spark_session()\n",
    "    \n",
    "    try:\n",
    "        # Récupère tous les dossiers horaires\n",
    "        hour_folders = get_hour_folders(input_path)\n",
    "        \n",
    "        for folder in hour_folders:\n",
    "            folder_path = os.path.join(input_path, folder)\n",
    "            \n",
    "            # Récupère tous les fichiers logs dans le dossier (format: YYYYMMDDHHMMSS.txt)\n",
    "            log_files = glob.glob(os.path.join(folder_path, \"*.txt\"))\n",
    "            \n",
    "            # Dictionnaire pour stocker les résultats de l'heure\n",
    "            hour_results = {}\n",
    "            \n",
    "            # Traite chaque fichier de l'heure\n",
    "            for file_path in log_files:\n",
    "                result_df = process_log_file(spark, file_path)\n",
    "                \n",
    "                if result_df:\n",
    "                    # Collecte les résultats\n",
    "                    for row in result_df.collect():\n",
    "                        product = row.product_name\n",
    "                        amount = int(row.total_price)  # Convertit en centimes\n",
    "                        \n",
    "                        if product not in hour_results:\n",
    "                            hour_results[product] = 0\n",
    "                        hour_results[product] += amount\n",
    "            \n",
    "            # Écrit les résultats dans un fichier pour cette heure\n",
    "            if hour_results:\n",
    "                output_file = os.path.join(output_path, f\"{folder}.txt\")\n",
    "                date_str = format_datetime(folder)\n",
    "                \n",
    "                with open(output_file, 'a') as f:\n",
    "                    for product, total in hour_results.items():\n",
    "                        f.write(f\"{date_str}|{product}|{total}\\n\")\n",
    "                \n",
    "                print(f\"Fichier créé : {output_file}\")\n",
    "    \n",
    "    finally:\n",
    "        spark.stop()"
   ]
  },
  {
   "cell_type": "code",
   "execution_count": 21,
   "id": "9955e8e7-b792-4697-9764-bda716e44c90",
   "metadata": {},
   "outputs": [
    {
     "name": "stdout",
     "output_type": "stream",
     "text": [
      "Fichier créé : ./output/2024111621.txt\n",
      "Fichier créé : ./output/2024111611.txt\n"
     ]
    }
   ],
   "source": [
    "if __name__ == \"__main__\":\n",
    "    # Décommentez la ligne suivante pour tester les formats\n",
    "    # test_folders_and_files()\n",
    "    main()"
   ]
  },
  {
   "cell_type": "code",
   "execution_count": null,
   "id": "456ca219-a92d-4775-891d-ad9f2f39c9b8",
   "metadata": {},
   "outputs": [],
   "source": []
  }
 ],
 "metadata": {
  "kernelspec": {
   "display_name": "Python 3 (ipykernel)",
   "language": "python",
   "name": "python3"
  },
  "language_info": {
   "codemirror_mode": {
    "name": "ipython",
    "version": 3
   },
   "file_extension": ".py",
   "mimetype": "text/x-python",
   "name": "python",
   "nbconvert_exporter": "python",
   "pygments_lexer": "ipython3",
   "version": "3.11.6"
  }
 },
 "nbformat": 4,
 "nbformat_minor": 5
}
